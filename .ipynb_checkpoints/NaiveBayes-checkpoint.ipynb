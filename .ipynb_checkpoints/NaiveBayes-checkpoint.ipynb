{
 "cells": [
  {
   "cell_type": "markdown",
   "metadata": {},
   "source": [
    "# 模型实现的基本框架"
   ]
  },
  {
   "cell_type": "markdown",
   "metadata": {},
   "source": [
    "* 定义获取训练集里类别先验概率的函数\n",
    "* 将核心训练步骤以外的训练步骤进行定义，其中核心训练步骤需要训练出一个决策函数，该决策函数能够输出给定数据的后验概率。\n",
    "* 利用决策函数定义预测函数和评估函数"
   ]
  },
  {
   "cell_type": "code",
   "execution_count": 4,
   "metadata": {},
   "outputs": [],
   "source": [
    "import numpy as np\n",
    "\n",
    "# 定义NaiveBayes的基类，方便后续拓展\n",
    "class NaiveBayes:\n",
    "    # 初始化\n",
    "    def _init_(self):\n",
    "        self._x = self._y = None       # 记录训练集的变量\n",
    "        self._data = self._func = None # 核心数组（存储实际使用的条件概率信息）；模型的决策函数（根据输入x，y输出对应的后验概率）\n",
    "        self._n_possibilities = None   # 记录各个纬度特征取值个数的数组\n",
    "        self._labelled_x = self._label_zip = None # 记录按类别分开后的输入数据的数组；记录类别相关信息的数组\n",
    "        self._cat_counter = self._con_counter = None # 记录第i类数据的个数；记录数据条件概率的原始极大似然估计\n",
    "        self.label_dic = self._feat_dics = None # 记录数据数值化类别时的转换关系；用于记录数值化各纬度特征时的转换关系\n",
    "    \n",
    "    # 重载 _getitem_(self, item)\n",
    "    def _getitem_(self, item):\n",
    "        if isinstance(item, str):\n",
    "            return getattr(self, \"_\" + item)\n",
    "        \n",
    "    # 留下抽象方法让子类定义，这里tar_idx参数和self._tar_idx意义一致\n",
    "    def feed_data(self, x, y, tar_idx=None):\n",
    "        pass\n",
    "    \n",
    "    # 留下抽象方法让子类定义，这里的sample_weight代表样本权重\n",
    "    def feed_sample_weight(self, sample, sample_weight=None):\n",
    "        pass\n",
    "    \n",
    "    # 定义计算先验概率的函数，lb就是各个估计中的平滑项\n",
    "    # lb默认值为1，即默认采用拉普拉斯平滑\n",
    "    def get_prior_probability(self, lb=1):\n",
    "        return [(_c_num + lb) / (len(self._y) + lb * len(self._cat_counter)) for _c_num in self._cat_counter]\n",
    "    \n",
    "    # 定义具有普适性的训练函数\n",
    "    "
   ]
  }
 ],
 "metadata": {
  "kernelspec": {
   "display_name": "Python 3",
   "language": "python",
   "name": "python3"
  },
  "language_info": {
   "codemirror_mode": {
    "name": "ipython",
    "version": 3
   },
   "file_extension": ".py",
   "mimetype": "text/x-python",
   "name": "python",
   "nbconvert_exporter": "python",
   "pygments_lexer": "ipython3",
   "version": "3.6.8"
  }
 },
 "nbformat": 4,
 "nbformat_minor": 2
}
